{
 "metadata": {
  "language_info": {
   "codemirror_mode": {
    "name": "ipython",
    "version": 3
   },
   "file_extension": ".py",
   "mimetype": "text/x-python",
   "name": "python",
   "nbconvert_exporter": "python",
   "pygments_lexer": "ipython3",
   "version": "3.8.5"
  },
  "orig_nbformat": 2,
  "kernelspec": {
   "name": "python385jvsc74a57bd02195b9cd4f50e5404b90ae46eb2307c9af6b2989064f9284b9e8971d57d6501b",
   "display_name": "Python 3.8.5 64-bit ('tcr-env': venv)"
  },
  "metadata": {
   "interpreter": {
    "hash": "2195b9cd4f50e5404b90ae46eb2307c9af6b2989064f9284b9e8971d57d6501b"
   }
  }
 },
 "nbformat": 4,
 "nbformat_minor": 2,
 "cells": [
  {
   "cell_type": "code",
   "execution_count": null,
   "metadata": {},
   "outputs": [],
   "source": [
    "from kemeny import kemeny_rule, markov_heuristic\n",
    "from borda import borda_count\n",
    "from main import load_voting_profile, simplify_profile"
   ]
  },
  {
   "cell_type": "code",
   "execution_count": null,
   "metadata": {},
   "outputs": [],
   "source": [
    "file_name = \"sushi_data.txt\"\n",
    "simplified_num_candidates = 10\n",
    "workers = 2\n",
    "\n",
    "# Load voting profile P for the data\n",
    "profile = load_voting_profile(file_name)\n",
    "\n",
    "# Create a smalller profile for the brute-force approach\n",
    "short_profile = simplify_profile(profile, simplified_num_candidates)\n",
    "\n",
    "# Perform the original Kemeny Rule using Kendall-Tau Distances\n",
    "kemeny_rule(short_profile, num_workers=workers)\n",
    "\n",
    "# Perform the Borda Count, a 5-Approximation of the Kemeny Rule\n",
    "borda_count(short_profile)\n",
    "\n",
    "# Perform Markov chain based approximations of the Kemeny Rule\n",
    "markov_heuristic(short_profile, 1)\n",
    "markov_heuristic(short_profile, 2)\n",
    "markov_heuristic(short_profile, 3)"
   ]
  },
  {
   "cell_type": "code",
   "execution_count": null,
   "metadata": {},
   "outputs": [],
   "source": []
  }
 ]
}